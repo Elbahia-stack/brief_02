{
 "cells": [
  {
   "cell_type": "code",
   "execution_count": null,
   "id": "ba66c9f4-b26c-4bdc-a6cb-3737f826230f",
   "metadata": {},
   "outputs": [],
   "source": [
    "import pandas as pd\n",
    "import numpy as np\n",
    "import matplotlib.pyplot as plt\n",
    "import seaborn as sns\n",
    "\n",
    "\n",
    "df= pd.read_csv(\"data_brief_2.csv\")\n",
    "\n",
    "df.head()\n",
    "df.info()\n",
    "df.describe(include='all')\n"
   ]
  },
  {
   "cell_type": "code",
   "execution_count": null,
   "id": "14c9419a-fd8a-425d-a5fd-69f54b83a67d",
   "metadata": {},
   "outputs": [],
   "source": [
    "df.isnull().sum()\n"
   ]
  },
  {
   "cell_type": "code",
   "execution_count": null,
   "id": "24c7934f-8864-4551-822c-c579004cd141",
   "metadata": {},
   "outputs": [],
   "source": [
    "df.fillna({\n",
    "    'Weather': df['Weather'].mode()[0],\n",
    "    'Traffic_Level': df['Traffic_Level'].mode()[0],\n",
    "    'Time_of_Day': df['Time_of_Day'].mode()[0],\n",
    "    'Courier_Experience_yrs': df['Courier_Experience_yrs'].median()\n",
    "}, inplace=True)"
   ]
  },
  {
   "cell_type": "code",
   "execution_count": null,
   "id": "d3606995-b204-41e4-9c76-7cd71f3eaee9",
   "metadata": {},
   "outputs": [],
   "source": [
    "df.isnull().sum()"
   ]
  },
  {
   "cell_type": "code",
   "execution_count": null,
   "id": "508a0991-ce70-4ab5-9145-4210c0115dc0",
   "metadata": {},
   "outputs": [],
   "source": [
    "df.duplicated().sum()\n"
   ]
  },
  {
   "cell_type": "code",
   "execution_count": null,
   "id": "bf8afc20-e65b-4284-9f29-43e445ece9c5",
   "metadata": {},
   "outputs": [],
   "source": [
    "df.dtypes"
   ]
  },
  {
   "cell_type": "code",
   "execution_count": null,
   "id": "f960bec8-078f-43e9-934b-df8a59915bdf",
   "metadata": {},
   "outputs": [],
   "source": [
    "numerical_cols = [ 'Distance_km', 'Preparation_Time_min', 'Courier_Experience_yrs', 'Delivery_Time_min']\n",
    "df_numeric = df[numerical_cols]\n",
    "corr_matrix = df_numeric.corr()\n",
    "plt.figure(figsize=(8,6))\n",
    "sns.heatmap(corr_matrix, annot=True, cmap='coolwarm', fmt=\".2f\")\n",
    "plt.title(\"Heatmap de corrélation des variables numériques\")\n",
    "plt.show()\n"
   ]
  },
  {
   "cell_type": "code",
   "execution_count": null,
   "id": "9d1317ef-5992-4c6a-8677-ee3f6bef471a",
   "metadata": {},
   "outputs": [],
   "source": [
    "df.select_dtypes(include=['object']).columns\n"
   ]
  },
  {
   "cell_type": "code",
   "execution_count": null,
   "id": "b5d6e883-0a74-46e6-a153-d2e4ca72a7f8",
   "metadata": {},
   "outputs": [],
   "source": [
    "categorical_cols=['Weather', 'Traffic_Level', 'Time_of_Day', 'Vehicle_Type']\n",
    "for clm in categorical_cols:\n",
    "    sns.countplot(x=clm, data=df)\n",
    "    plt.title(f\"Distribution de {clm}\")\n",
    "    plt.show()"
   ]
  },
  {
   "cell_type": "code",
   "execution_count": null,
   "id": "a8f92bab-c12b-4ba9-85ba-95925600bdcc",
   "metadata": {},
   "outputs": [],
   "source": [
    "categorical_cols=['Weather', 'Traffic_Level', 'Time_of_Day', 'Vehicle_Type']\n",
    "for clm in categorical_cols:\n",
    "   sns.boxplot(x=clm,y='Delivery_Time_min', data=df)\n",
    "   plt.title(f\"Vitesse selon {clm}\")\n",
    "   plt.show()"
   ]
  },
  {
   "cell_type": "code",
   "execution_count": null,
   "id": "934e8257-ef77-41a9-870e-2f511e1273a8",
   "metadata": {},
   "outputs": [],
   "source": [
    "print(df.columns.tolist())\n"
   ]
  },
  {
   "cell_type": "code",
   "execution_count": null,
   "id": "9860276d-cffc-4eaa-873c-fcb7288be9d4",
   "metadata": {
    "scrolled": true
   },
   "outputs": [],
   "source": [
    "from sklearn.preprocessing import OneHotEncoder\n",
    "\n",
    "c_cols=['Weather', 'Traffic_Level', 'Time_of_Day', 'Vehicle_Type']\n",
    "encoder = OneHotEncoder(sparse_output=False, handle_unknown='ignore')  \n",
    "encoded = encoder.fit_transform(df[c_cols]) \n",
    "encoded_df = pd.DataFrame(encoded, columns=encoder.get_feature_names_out(c_cols))\n",
    "\n",
    "df = pd.concat([df, encoded_df], axis=1) \n",
    "df = df.drop(columns=c_cols)  \n",
    "print(encoded_df)"
   ]
  },
  {
   "cell_type": "code",
   "execution_count": null,
   "id": "6326576e-a280-48a1-b0f9-ad9a00e7fa8f",
   "metadata": {},
   "outputs": [],
   "source": [
    "from sklearn.preprocessing import StandardScaler\n",
    "f_s= ['Distance_km', 'Preparation_Time_min', 'Courier_Experience_yrs']\n",
    "scaler = StandardScaler()\n",
    "df[f_s] = scaler.fit_transform(df[f_s])\n",
    "print(df)"
   ]
  },
  {
   "cell_type": "code",
   "execution_count": null,
   "id": "a3658c57-b458-4c61-a4d8-ca44069ba21d",
   "metadata": {},
   "outputs": [],
   "source": [
    "from sklearn.feature_selection import SelectKBest, f_regression\n",
    "X = df.drop('Delivery_Time_min', axis=1)  \n",
    "y = df['Delivery_Time_min']  \n",
    "selector = SelectKBest(score_func=f_regression, k=5)\n",
    "X_new = selector.fit_transform(X, y)\n",
    "selected_features = X.columns[selector.get_support()]\n",
    "print( selected_features.tolist())"
   ]
  },
  {
   "cell_type": "code",
   "execution_count": null,
   "id": "4b31f4f4-fe41-425f-b62f-be18b4396a7a",
   "metadata": {},
   "outputs": [],
   "source": [
    "df.select_dtypes(include=['object']).columns"
   ]
  },
  {
   "cell_type": "code",
   "execution_count": null,
   "id": "bd6a847e-132a-453c-a700-e2fa6867e482",
   "metadata": {},
   "outputs": [],
   "source": [
    "\n",
    "from sklearn.model_selection import train_test_split\n",
    "\n",
    "X_train, X_test, y_train, y_test = train_test_split(\n",
    "    X, y, test_size=0.2, random_state=42)\n",
    "print(\"X shape:\", X.shape)\n",
    "print(\"y shape:\", y.shape)"
   ]
  },
  {
   "cell_type": "code",
   "execution_count": null,
   "id": "93811d24-6069-47b1-9652-c72fb4d5ee5d",
   "metadata": {},
   "outputs": [],
   "source": [
    "from sklearn.ensemble import RandomForestRegressor\n",
    "from sklearn.svm import SVR\n",
    "from sklearn.model_selection import GridSearchCV\n",
    "from sklearn.metrics import mean_absolute_error, r2_score\n",
    "\n",
    "\n",
    "rf = RandomForestRegressor(random_state=42)\n",
    "svr = SVR()\n",
    "\n",
    "\n",
    "param_grid_rf = {\n",
    "    'n_estimators': [50, 100, 200],\n",
    "    'max_depth': [None, 5, 10]\n",
    "}\n",
    "\n",
    "param_grid_svr = {\n",
    "    'C': [0.1, 1, 10],\n",
    "    'kernel': ['linear', 'rbf'],\n",
    "    'gamma': ['scale', 'auto']\n",
    "}\n",
    "grid_rf = GridSearchCV(rf, param_grid_rf, cv=5, scoring='neg_mean_absolute_error', n_jobs=1)\n",
    "grid_svr = GridSearchCV(svr, param_grid_svr, cv=5, scoring='neg_mean_absolute_error', n_jobs=1)\n",
    "\n",
    "grid_rf.fit(X_train, y_train)\n",
    "grid_svr.fit(X_train, y_train)\n",
    "\n",
    "y_pred_rf = grid_rf.best_estimator_.predict(X_test)\n",
    "mae_rf = mean_absolute_error(y_test, y_pred_rf)\n",
    "r2_rf = r2_score(y_test, y_pred_rf)\n",
    "\n",
    "\n",
    "y_pred_svr = grid_svr.best_estimator_.predict(X_test)\n",
    "mae_svr = mean_absolute_error(y_test, y_pred_svr)\n",
    "r2_svr = r2_score(y_test, y_pred_svr)\n",
    "\n",
    "print(\"Random Forest - MAE:\", mae_rf, \"R2:\", r2_rf)\n",
    "print(\"SVR - MAE:\", mae_svr, \"R2:\", r2_svr)\n"
   ]
  },
  {
   "cell_type": "code",
   "execution_count": null,
   "id": "39d2fe16-8c96-43d1-9108-d388ecc7edc1",
   "metadata": {},
   "outputs": [],
   "source": [
    "\n"
   ]
  },
  {
   "cell_type": "code",
   "execution_count": null,
   "id": "07618f8d-a5e1-429c-b14b-c4145e087b07",
   "metadata": {},
   "outputs": [],
   "source": []
  }
 ],
 "metadata": {
  "kernelspec": {
   "display_name": "Python 3 (ipykernel)",
   "language": "python",
   "name": "python3"
  },
  "language_info": {
   "codemirror_mode": {
    "name": "ipython",
    "version": 3
   },
   "file_extension": ".py",
   "mimetype": "text/x-python",
   "name": "python",
   "nbconvert_exporter": "python",
   "pygments_lexer": "ipython3",
   "version": "3.13.7"
  }
 },
 "nbformat": 4,
 "nbformat_minor": 5
}
